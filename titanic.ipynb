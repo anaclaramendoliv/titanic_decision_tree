{
  "nbformat": 4,
  "nbformat_minor": 0,
  "metadata": {
    "colab": {
      "name": "Untitled2.ipynb",
      "provenance": [],
      "authorship_tag": "ABX9TyOwOe+Gf2s3aoCdXhA9zbR3",
      "include_colab_link": true
    },
    "kernelspec": {
      "name": "python3",
      "display_name": "Python 3"
    },
    "language_info": {
      "name": "python"
    }
  },
  "cells": [
    {
      "cell_type": "markdown",
      "metadata": {
        "id": "view-in-github",
        "colab_type": "text"
      },
      "source": [
        "<a href=\"https://colab.research.google.com/github/anaclaramendoliv/titanic_decision_tree/blob/main/titanic.ipynb\" target=\"_parent\"><img src=\"https://colab.research.google.com/assets/colab-badge.svg\" alt=\"Open In Colab\"/></a>"
      ]
    },
    {
      "cell_type": "code",
      "metadata": {
        "id": "GhlhLGR44MXE"
      },
      "source": [
        "import pandas as pd\n",
        "import numpy as np\n",
        "\n",
        "from sklearn.ensemble import RandomForestClassifier\n",
        "from sklearn.model_selection import train_test_split"
      ],
      "execution_count": 86,
      "outputs": []
    },
    {
      "cell_type": "code",
      "metadata": {
        "id": "5XF7U5U-HFOZ"
      },
      "source": [
        "dados = pd.read_csv('/TitanicData.csv')"
      ],
      "execution_count": 87,
      "outputs": []
    },
    {
      "cell_type": "code",
      "metadata": {
        "id": "l6bYvRDyeOqp"
      },
      "source": [
        "dados = dados.drop(['Name','Ticket', 'Cabin', 'Embarked'], axis = 1)"
      ],
      "execution_count": 88,
      "outputs": []
    },
    {
      "cell_type": "code",
      "metadata": {
        "id": "XmvJDuMVecse"
      },
      "source": [
        "dados.head()"
      ],
      "execution_count": null,
      "outputs": []
    },
    {
      "cell_type": "code",
      "metadata": {
        "id": "uWuPN_IYgaMi"
      },
      "source": [
        "dados = dados.rename(columns={'Survived':'target'}, inplace = False)\n",
        "dados = dados.set_index('PassengerId')"
      ],
      "execution_count": 90,
      "outputs": []
    },
    {
      "cell_type": "code",
      "metadata": {
        "id": "Bw_L22K8iWvf"
      },
      "source": [
        "dados.describe()"
      ],
      "execution_count": null,
      "outputs": []
    },
    {
      "cell_type": "code",
      "metadata": {
        "id": "B2KL6qXoi2NU"
      },
      "source": [
        "dados['Sex_F']=np.where(dados['Sex']=='female',1,0)\n",
        "dados['Pclass_1']=np.where(dados['Pclass']== 1,1,0)\n",
        "dados['Pclass_2']=np.where(dados['Pclass']== 2,1,0)\n",
        "dados['Pclass_3']=np.where(dados['Pclass']== 3,1,0)"
      ],
      "execution_count": 92,
      "outputs": []
    },
    {
      "cell_type": "code",
      "metadata": {
        "id": "3MGoUP_0ksus"
      },
      "source": [
        "dados = dados.drop(['Pclass_1', 'Sex'], axis = 1)"
      ],
      "execution_count": 93,
      "outputs": []
    },
    {
      "cell_type": "code",
      "metadata": {
        "id": "3T64Qg6akdSw"
      },
      "source": [
        "dados.head()"
      ],
      "execution_count": null,
      "outputs": []
    },
    {
      "cell_type": "code",
      "metadata": {
        "id": "R7tgVGqWlDTc"
      },
      "source": [
        "dados.isnull().sum()"
      ],
      "execution_count": null,
      "outputs": []
    },
    {
      "cell_type": "code",
      "metadata": {
        "id": "EO5TzMiJmY3D"
      },
      "source": [
        "dados.fillna(0, inplace = True)"
      ],
      "execution_count": 96,
      "outputs": []
    },
    {
      "cell_type": "code",
      "metadata": {
        "colab": {
          "base_uri": "https://localhost:8080/"
        },
        "id": "iwFOImLto_ds",
        "outputId": "02e93ffa-fdc0-408f-c9a8-b422fc311e8f"
      },
      "source": [
        "x_train,x_test,y_train,y_test = train_test_split(dados.drop(['target'], axis = 1),\n",
        "                                                 dados[\"target\"],\n",
        "                                                 test_size = 0.3,\n",
        "                                                 random_state = 1234)\n",
        "[{'treino':x_train.shape},{'teste':x_test.shape}]"
      ],
      "execution_count": 104,
      "outputs": [
        {
          "output_type": "execute_result",
          "data": {
            "text/plain": [
              "[{'treino': (292, 10)}, {'teste': (126, 10)}]"
            ]
          },
          "metadata": {},
          "execution_count": 104
        }
      ]
    },
    {
      "cell_type": "code",
      "metadata": {
        "id": "56zxXWDuriKZ"
      },
      "source": [
        "florest = RandomForestClassifier(n_estimators= 1000,\n",
        "                                 criterion = 'gini',\n",
        "                                 max_depth = 5)\n",
        "florest.fit(x_train,y_train)"
      ],
      "execution_count": null,
      "outputs": []
    },
    {
      "cell_type": "code",
      "metadata": {
        "id": "IVwXDM1FtMXg"
      },
      "source": [
        "prob = florest.predict_proba(dados.drop('target', axis = 1))[:,1]\n",
        "classif = florest.predict(dados.drop('target', axis = 1))"
      ],
      "execution_count": 99,
      "outputs": []
    },
    {
      "cell_type": "code",
      "metadata": {
        "id": "HS9AKO-WuBdr"
      },
      "source": [
        "dados['prob'] = prob\n",
        "dados['classif'] = classif"
      ],
      "execution_count": 100,
      "outputs": []
    },
    {
      "cell_type": "code",
      "metadata": {
        "id": "Hd4zeUV-uQqW"
      },
      "source": [
        "dados"
      ],
      "execution_count": null,
      "outputs": []
    }
  ]
}